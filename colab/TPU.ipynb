{
 "cells": [
  {
   "cell_type": "markdown",
   "metadata": {
    "id": "view-in-github",
    "colab_type": "text"
   },
   "source": [
    "<a href=\"https://colab.research.google.com/github/nolialsea/KoboldAI/blob/united/colab/TPU.ipynb\" target=\"_parent\"><img src=\"https://colab.research.google.com/assets/colab-badge.svg\" alt=\"Open In Colab\"/></a>"
   ]
  },
  {
   "cell_type": "markdown",
   "source": [
    "# Welcome to KoboldAI on Google Colab, TPU Edition!\n",
    "KoboldAI is a powerful and easy way to use a variety of AI based text generation experiences. You can use it to write stories, blog posts, play a text adventure game, use it like a chatbot and more! In some cases it might even help you with an assignment or programming task (But always make sure the information the AI mentions is correct, it loves to make stuff up).\n",
    "\n",
    "For more information about KoboldAI check our our Github readme : https://github.com/KoboldAI/KoboldAI-Client/blob/main/readme.md\n",
    "\n",
    "More (smaller) models are available in the **[GPU edition](https://colab.research.google.com/github/koboldai/KoboldAI-Client/blob/main/colab/GPU.ipynb)**!"
   ],
   "metadata": {
    "id": "zrLGxVCEaqZx"
   }
  },
  {
   "cell_type": "code",
   "source": [
    "#@title <-- Tap this if you play on Mobile { display-mode: \"form\" }\n",
    "%%html\n",
    "<b>Press play on the music player to keep the tab alive, then start KoboldAI below (Uses only 13MB of data)</b><br/>\n",
    "<audio src=\"https://henk.tech/colabkobold/silence.m4a\" controls>"
   ],
   "metadata": {
    "id": "ZIL7itnNaw5V"
   },
   "execution_count": null,
   "outputs": []
  },
  {
   "cell_type": "code",
   "execution_count": null,
   "metadata": {
    "id": "qZmAyFFMouk9",
    "cellView": "form"
   },
   "outputs": [],
   "source": [
    "#@title <b><-- Click this to start KoboldAI</b>\n",
    "\n",
    "Model = \"Skein 6B\" #@param [\"Skein 6B\", \"Janeway 6B\", \"Adventure 6B\", \"Lit 6B\", \"Shinen 6B\", \"Generic 6B\", \"C1 6B\"]\n",
    "Version = \"United\" #@param [\"Official\", \"United\"] {allow-input: true}\n",
    "Drive = \"Extracted (Faster Loading)\" #@param [\"Unextracted (Less Space)\", \"Extracted (Faster Loading)\"]\n",
    "#@markdown Extracted models take up more space but load faster the next time you use them, not all models use your Google Drive. See the Model list below for descriptions and space requirements. If your extracted model does not load the next time you try to launch KoboldAI delete the folder from your Google Drive and ensure enough space is available.\n",
    "\n",
    "from google.colab import drive\n",
    "drive.mount('/content/drive/')\n",
    "!wget https://raw.githubusercontent.com/nolialsea/KoboldAI/united/colabkobold.sh -O - | bash /dev/stdin -i drive\n",
    "\n",
    "if Model == \"Skein 6B\":\n",
    "  path = \"gpt-j-6b-skein-jax\"\n",
    "  location = \"colab\"\n",
    "  download = \"-a https://storage.henk.tech/KoboldAI/skein-jax.txt\"\n",
    "  extract = \"\"\n",
    "  Drive = \"Unextracted (Less Space)\"\n",
    "  ![[ -f /content/drive/MyDrive/KoboldAI/settings/gpt-j-6b-skein-jax.settings ]] || echo -e \"{\\n   \\\"apikey\\\": \\\"\\\",\\n   \\\"andepth\\\": 3,\\n   \\\"temp\\\": 0.5,\\n   \\\"top_p\\\": 0.9,\\n   \\\"top_k\\\": 0,\\n   \\\"tfs\\\": 1.0,\\n   \\\"rep_pen\\\": 1.1,\\n   \\\"genamt\\\": 80,\\n   \\\"max_length\\\": 2048,\\n   \\\"ikgen\\\": 200,\\n   \\\"formatoptns\\\": {\\n      \\\"frmttriminc\\\": true,\\n      \\\"frmtrmblln\\\": false,\\n      \\\"frmtrmspch\\\": false,\\n      \\\"frmtadsnsp\\\": false\\n   },\\n   \\\"numseqs\\\": 1,\\n   \\\"widepth\\\": 3,\\n   \\\"useprompt\\\": true,\\n   \\\"adventure\\\": false\\n}\" > /content/drive/MyDrive/KoboldAI/settings/gpt-j-6b-skein-jax.settings\n",
    "if Model == \"Janeway 6B\":\n",
    "  path = \"gpt-j-6b-janeway-jax\"\n",
    "  location = \"colab\"\n",
    "  download = \"-a https://storage.henk.tech/KoboldAI/janeway-jax.txt\"\n",
    "  extract = \"\"\n",
    "  Drive = \"Unextracted (Less Space)\"\n",
    "  ![[ -f /content/drive/MyDrive/KoboldAI/settings/gpt-j-6b-janeway-jax.settings ]] || echo -e \"{\\n   \\\"apikey\\\": \\\"\\\",\\n   \\\"andepth\\\": 3,\\n   \\\"temp\\\": 0.5,\\n   \\\"top_p\\\": 0.9,\\n   \\\"top_k\\\": 0,\\n   \\\"tfs\\\": 1.0,\\n   \\\"rep_pen\\\": 1.1,\\n   \\\"rep_pen_slope\\\": 0.7,\\n   \\\"rep_pen_range\\\": 1024.0,\\n   \\\"genamt\\\": 80,\\n   \\\"max_length\\\": 2048,\\n   \\\"ikgen\\\": 200,\\n   \\\"formatoptns\\\": {\\n      \\\"frmttriminc\\\": true,\\n      \\\"frmtrmblln\\\": false,\\n      \\\"frmtrmspch\\\": false,\\n      \\\"frmtadsnsp\\\": false,\\n      \\\"singleline\\\": false\\n   },\\n   \\\"numseqs\\\": 1,\\n   \\\"widepth\\\": 3,\\n   \\\"useprompt\\\": true,\\n   \\\"adventure\\\": false,\\n   \\\"chatmode\\\": false,\\n   \\\"chatname\\\": \\\"You\\\",\\n   \\\"dynamicscan\\\": false,\\n   \\\"nopromptgen\\\": false,\\n   \\\"rngpersist\\\": false,\\n   \\\"nogenmod\\\": false,\\n   \\\"autosave\\\": false,\\n   \\\"welcome\\\": false,\\n   \\\"newlinemode\\\": \\\"n\\\",\\n   \\\"antemplate\\\": \\\"[Genre: <|>]\\\",\\n   \\\"userscripts\\\": [],\\n   \\\"corescript\\\": \\\"default.lua\\\",\\n   \\\"softprompt\\\": \\\"\\\"\\n}\" > /content/drive/MyDrive/KoboldAI/settings/gpt-j-6b-janeway-jax.settings\n",
    "if Model == \"Adventure 6B\":\n",
    "  path = \"gpt-j-6b-adventure-jax\"\n",
    "  location = \"colab\"\n",
    "  download = \"-a https://api.wandb.ai/files/ve-forbryderne/adventure/carol-data/models/gpt-j-6b-adventure-jax/aria2.txt\"\n",
    "  extract = \"\"\n",
    "  Drive = \"Unextracted (Less Space)\"\n",
    "  ![[ -f /content/drive/MyDrive/KoboldAI/settings/gpt-j-6b-adventure-jax.settings ]] || echo -e \"{\\n   \\\"apikey\\\": \\\"\\\",\\n   \\\"andepth\\\": 3,\\n   \\\"temp\\\": 0.5,\\n   \\\"top_p\\\": 0.9,\\n   \\\"top_k\\\": 0,\\n   \\\"tfs\\\": 1.0,\\n   \\\"rep_pen\\\": 1.1,\\n   \\\"genamt\\\": 80,\\n   \\\"max_length\\\": 2048,\\n   \\\"ikgen\\\": 200,\\n   \\\"formatoptns\\\": {\\n      \\\"frmttriminc\\\": true,\\n      \\\"frmtrmblln\\\": false,\\n      \\\"frmtrmspch\\\": false,\\n      \\\"frmtadsnsp\\\": false\\n   },\\n   \\\"numseqs\\\": 1,\\n   \\\"widepth\\\": 3,\\n   \\\"useprompt\\\": true,\\n   \\\"adventure\\\": true\\n}\" > /content/drive/MyDrive/KoboldAI/settings/gpt-j-6b-adventure-jax.settings\n",
    "if Model == \"Lit 6B\":\n",
    "  path = \"gpt-j-6b-lit-jax\"\n",
    "  location = \"drive\"\n",
    "  download = \"-a https://storage.henk.tech/KoboldAI/aria2.php?file=gpt-j-6b-lit-jax.7z\"\n",
    "  extract = \"-z gpt-j-6b-lit-jax.7z\"\n",
    "  ![[ -f /content/drive/MyDrive/KoboldAI/settings/gpt-j-6b-lit-jax.settings ]] || echo -e \"{\\n   \\\"apikey\\\": \\\"\\\",\\n   \\\"andepth\\\": 3,\\n   \\\"temp\\\": 0.5,\\n   \\\"top_p\\\": 0.9,\\n   \\\"top_k\\\": 0,\\n   \\\"tfs\\\": 1.0,\\n   \\\"rep_pen\\\": 1.1,\\n   \\\"genamt\\\": 80,\\n   \\\"max_length\\\": 2048,\\n   \\\"ikgen\\\": 200,\\n   \\\"formatoptns\\\": {\\n      \\\"frmttriminc\\\": true,\\n      \\\"frmtrmblln\\\": false,\\n      \\\"frmtrmspch\\\": false,\\n      \\\"frmtadsnsp\\\": false\\n   },\\n   \\\"numseqs\\\": 1,\\n   \\\"widepth\\\": 3,\\n   \\\"useprompt\\\": true,\\n   \\\"adventure\\\": false\\n}\" > /content/drive/MyDrive/KoboldAI/settings/gpt-j-6b-lit-jax.settings\n",
    "if Model == \"Shinen 6B\":\n",
    "  path = \"gpt-j-6b-shinen-jax\"\n",
    "  location = \"colab\"\n",
    "  download = \"-a https://storage.henk.tech/KoboldAI/shinen-jax.txt\"\n",
    "  extract = \"\"\n",
    "  Drive = \"Unextracted (Less Space)\"\n",
    "  ![[ -f /content/drive/MyDrive/KoboldAI/settings/gpt-j-6b-shinen-jax.settings ]] || echo -e \"{\\n   \\\"apikey\\\": \\\"\\\",\\n   \\\"andepth\\\": 3,\\n   \\\"temp\\\": 0.5,\\n   \\\"top_p\\\": 0.9,\\n   \\\"top_k\\\": 0,\\n   \\\"tfs\\\": 1.0,\\n   \\\"rep_pen\\\": 1.1,\\n   \\\"rep_pen_slope\\\": 0.7,\\n   \\\"rep_pen_range\\\": 1024.0,\\n   \\\"genamt\\\": 80,\\n   \\\"max_length\\\": 2048,\\n   \\\"ikgen\\\": 200,\\n   \\\"formatoptns\\\": {\\n      \\\"frmttriminc\\\": true,\\n      \\\"frmtrmblln\\\": false,\\n      \\\"frmtrmspch\\\": false,\\n      \\\"frmtadsnsp\\\": false,\\n      \\\"singleline\\\": false\\n   },\\n   \\\"numseqs\\\": 1,\\n   \\\"widepth\\\": 3,\\n   \\\"useprompt\\\": true,\\n   \\\"adventure\\\": false,\\n   \\\"chatmode\\\": false,\\n   \\\"chatname\\\": \\\"You\\\",\\n   \\\"dynamicscan\\\": false,\\n   \\\"nopromptgen\\\": false,\\n   \\\"rngpersist\\\": false,\\n   \\\"nogenmod\\\": false,\\n   \\\"autosave\\\": false,\\n   \\\"welcome\\\": false,\\n   \\\"newlinemode\\\": \\\"n\\\",\\n   \\\"antemplate\\\": \\\"[Genre: <|>]\\\",\\n   \\\"userscripts\\\": [],\\n   \\\"corescript\\\": \\\"default.lua\\\",\\n   \\\"softprompt\\\": \\\"\\\"\\n}\" > /content/drive/MyDrive/KoboldAI/settings/gpt-j-6b-shinen-jax.settings\n",
    "if Model == \"Generic 6B\":\n",
    "  path = \"step_383500\"\n",
    "  location = \"drive\"\n",
    "  download = \"-a https://storage.henk.tech/KoboldAI/aria2.php?file=step_383500_slim.tar.zstd\"\n",
    "  extract = \"-t step_383500_slim.tar.zstd\"\n",
    "  ![[ -f /content/drive/MyDrive/KoboldAI/settings/step_383500.settings ]] || echo -e \"{\\n   \\\"apikey\\\": \\\"\\\",\\n   \\\"andepth\\\": 3,\\n   \\\"temp\\\": 0.5,\\n   \\\"top_p\\\": 0.9,\\n   \\\"top_k\\\": 0,\\n   \\\"tfs\\\": 1.0,\\n   \\\"rep_pen\\\": 1.1,\\n   \\\"genamt\\\": 80,\\n   \\\"max_length\\\": 2048,\\n   \\\"ikgen\\\": 200,\\n   \\\"formatoptns\\\": {\\n      \\\"frmttriminc\\\": true,\\n      \\\"frmtrmblln\\\": false,\\n      \\\"frmtrmspch\\\": false,\\n      \\\"frmtadsnsp\\\": false\\n   },\\n   \\\"numseqs\\\": 1,\\n   \\\"widepth\\\": 3,\\n   \\\"useprompt\\\": true,\\n   \\\"adventure\\\": false\\n}\" > /content/drive/MyDrive/KoboldAI/settings/step_383500.settings\n",
    "if Model == \"C1 6B\":\n",
    "  path = \"gpt-j-6b-c1-jax\"\n",
    "  location = \"drive\"\n",
    "  download = \"-a https://storage.henk.tech/KoboldAI/aria2.php?file=gpt-j-6b-c1-jax.7z\"\n",
    "  extract = \"-z gpt-j-6b-c1-jax.7z\"\n",
    "  ![[ -f /content/drive/MyDrive/KoboldAI/settings/gpt-j-6b-c1-jax.settings ]] || echo -e \"{\\n   \\\"apikey\\\": \\\"\\\",\\n   \\\"andepth\\\": 3,\\n   \\\"temp\\\": 0.5,\\n   \\\"top_p\\\": 0.9,\\n   \\\"top_k\\\": 0,\\n   \\\"tfs\\\": 1.0,\\n   \\\"rep_pen\\\": 1.1,\\n   \\\"genamt\\\": 80,\\n   \\\"max_length\\\": 2048,\\n   \\\"ikgen\\\": 200,\\n   \\\"formatoptns\\\": {\\n      \\\"frmttriminc\\\": true,\\n      \\\"frmtrmblln\\\": false,\\n      \\\"frmtrmspch\\\": false,\\n      \\\"frmtadsnsp\\\": false\\n   },\\n   \\\"numseqs\\\": 1,\\n   \\\"widepth\\\": 3,\\n   \\\"useprompt\\\": true,\\n   \\\"chatmode\\\": true\\n}\" > /content/drive/MyDrive/KoboldAI/settings/gpt-j-6b-c1-jax.settings\n",
    "\n",
    "if Drive == \"Unextracted (Less Space)\":\n",
    "  xloc = \"colab\"\n",
    "if Drive == \"Extracted (Faster Loading)\":\n",
    "  xloc = \"drive\"\n",
    "\n",
    "%cd /content/\n",
    "!git clone https://gitlab.com/nolialsea/alicebot.git\n",
    "%cd alicebot\n",
    "!git checkout dev\n",
    "!npm i\n",
    "with open('/content/alicebot/.env', 'w') as writefile:\n",
    "    writefile.write(\"API_URL=http://localhost:5000\\TOKEN_LIMIT=2048\")\n",
    "!pip install dotenv\n",
    "import dotenv\n",
    "dotenv.load_dotenv(os.path.join(os.path.dirname(__file__), 'content/alicebot/.env'))\n",
    "%env API_URL=http://localhost:5000\n",
    "%env TOKEN_LIMIT=2048\n",
    "!node ./src/botManagement/botManagement.js &> logs.txt --noblock &\n",
    "\n",
    "!wget https://raw.githubusercontent.com/nolialsea/KoboldAI/united/colabkobold.sh -O - | bash /dev/stdin $download -l $location $extract -p $path -m TPUMeshTransformerGPTJ -g $Version -x $xloc"
   ]
  },
  {
   "cell_type": "markdown",
   "source": [
    "# TPU Edition Model Descriptions\n",
    "\n",
    "| Model                          | Size   | Style     | Drive Space | Description                                                  |\n",
    "| ------------------------------ | ------ | --------- | ----------- | ------------------------------------------------------------ |\n",
    "| Skein 6B by VE_FORBRYDERNE | 6B TPU | Hybrid    | 0 GB         | Skein is our flagship 6B model, it is a hybrid between a Adventure model and a Novel model. Best used with either Adventure mode or the You Bias userscript enabled. Skein has been trained on high quality Novels along with CYOA adventure stories and is not as wackey as the Adventure model. It also has tagging support. |\n",
    "| Janeway 6B by Mr Seeker | 6B TPU | Novel | 0 GB | Janeway is a model created from Picard's dataset combined with a brand new collection of ebooks. This model is trained on 20% more content than Picard and has been trained on literature from various genres. Although the model is mainly focussed on SFW, romantic scenes might involve a degree of nudity. |\n",
    "| Adventure 6B by VE_FORBRYDERNE | 6B TPU | Adventure | 0 GB         | Adventure is a 6B model designed to mimick the behavior of AI Dungeon. It is exclusively for Adventure Mode and can take you on the epic and wackey adventures that AI Dungeon players love. It also features the many tropes of AI Dungeon as it has been trained on very similar data. It must be used in second person (You). |\n",
    "| Lit 6B by Haru                 | 6B TPU | NSFW      | 8 GB /  12 GB | Lit is a great NSFW model trained by Haru on both a large set of Literotica stories and high quality novels along with tagging support. Creating a high quality model for your NSFW stories. This model is exclusively a novel model and is best used in third person. |\n",
    "| Shinen 6B by Mr Seeker | 6B TPU | NSFW | 0 GB | Shinen is an alternative to the Lit model designed to be more explicit. If Lit is to tame for you Shinen might produce better results. While it is a Novel model it is unsuitable for SFW stories due to its heavy NSFW bias. Shinen will not hold back. It is meant to be used in KoboldAI's regular mode. |\n",
    "| Generic 6B by EleutherAI       | 6B TPU | Generic   | 10 GB / 12 GB | GPT-J-6B is what all other models are based on, if you need something that has no specific bias towards any particular subject this is the model for you. Best used when the other models are not suitable for what you wish to do. Such as homework assistance, blog writing, coding and more. It needs more hand holding than other models and is more prone to undesirable formatting changes. |\n",
    "| C1 6B by Haru                  | 6B TPU | Chatbot   | 8 GB /  12 GB | C1 has been trained on various internet chatrooms, it makes the basis for an interesting chatbot model and has been optimized to be used in the Chatmode. |\n",
    "\n",
    "\n",
    "# [GPU Edition Model Descriptions](https://colab.research.google.com/github/KoboldAI/KoboldAI-Client/blob/main/colab/GPU.ipynb)\n",
    "\n",
    "| Model                                                        | Size     | Style      | Description                                                  |\n",
    "| ------------------------------------------------------------ | -------- | ---------- | ------------------------------------------------------------ |\n",
    "| [GPT-Neo-2.7B-Janeway](https://huggingface.co/KoboldAI/GPT-Neo-2.7B-Janeway) by Mr Seeker | 2.7B GPU | Novel | Janeway is a model created from Picard's dataset combined with a brand new collection of ebooks. This model is trained on 20% more content than Picard and has been trained on literature from various genres. Although the model is mainly focussed on SFW, romantic scenes might involve a degree of nudity. |\n",
    "| [GPT-Neo-2.7B-Picard](https://huggingface.co/KoboldAI/GPT-Neo-2.7B-Picard) by Mr Seeker | 2.7B GPU | Novel      | Picard is a model trained for SFW Novels based on GPT-Neo-2.7B. It is focused on Novel style writing without the NSFW bias. While the name suggests a sci-fi model this model is designed for Novels of a variety of genre's. It is meant to be used in KoboldAI's regular mode. |\n",
    "| [GPT-Neo-2.7B-AID](https://huggingface.co/KoboldAI/GPT-Neo-2.7B-AID) by melastacho | 2.7B GPU | Adventure | Also know as Adventure 2.7B this is a clone of the AI Dungeon Classic model and is best known for the epic wackey adventures that AI Dungeon Classic players love. |\n",
    "| [GPT-Neo-2.7B-Horni-LN](https://huggingface.co/KoboldAI/GPT-Neo-2.7B-Horni-LN) by finetune | 2.7B GPU | Novel | This model is based on GPT-Neo-2.7B-Horni and retains its NSFW knowledge, but was then further biased towards SFW novel stories. If you seek a balance between a SFW Novel model and a NSFW model this model should be a good choice. |\n",
    "| [GPT-Neo-2.7B-Horni](https://huggingface.co/KoboldAI/GPT-Neo-2.7B-Horni) by finetune | 2.7B GPU | NSFW       | This model is tuned on Literotica to produce a Novel style model biased towards NSFW content. Can still be used for SFW stories but will have a bias towards NSFW content. It is meant to be used in KoboldAI's regular mode. |\n",
    "| [GPT-Neo-2.7B-Shinen](https://huggingface.co/KoboldAI/GPT-Neo-2.7B-Shinen) by Mr Seeker | 2.7B GPU | NSFW       | Shinen is an alternative to the Horni model designed to be more explicit. If Horni is to tame for you shinen might produce better results. While it is a Novel model it is unsuitable for SFW stories due to its heavy NSFW bias. Shinen will not hold back. It is meant to be used in KoboldAI's regular mode. |\n",
    "| [GPT-Neo-2.7B](https://huggingface.co/EleutherAI/gpt-neo-2.7B) by EleutherAI | 2.7B GPU    | Generic    | This is the base model for all the other 2.7B models, it is best used when you have a use case that we have no other models available for, such as writing blog articles or programming. It can also be a good basis for the experience of some of the softprompts if your softprompt is not about a subject the other models cover. |\n",
    "\n",
    "| Style     | Description                                                  |\n",
    "| --------- | ------------------------------------------------------------ |\n",
    "| Novel     | For regular story writing, not compatible with Adventure mode or other specialty modes. |\n",
    "| NSFW      | Indicates that the model is strongly biased towards NSFW content and is not suitable for children, work environments or livestreaming. Most NSFW models are also Novel models in nature. |\n",
    "| Adventure | These models are excellent for people willing to play KoboldAI like a Text Adventure game and are meant to be used with Adventure mode enabled. Even if you wish to use it as a Novel style model you should always have Adventure mode on and set it to story. These models typically have a strong bias towards the use of the word You and without Adventure mode enabled break the story flow and write actions on your behalf. |\n",
    "| Chatbot   | These models are specifically trained for chatting and are best used with the Chatmode enabled. Typically trained on either public chatrooms or private chats. |\n",
    "| Hybrid    | Hybrid models are a blend between different styles, for example they are trained on both Novel stories and Adventure stories. These models are great variety models that you can use for multiple different playstyles and modes, but depending on your usage you may need to enable Adventure Mode or the You bias (in userscripts). |\n",
    "| Generic   | Generic models are not trained towards anything specific, typically used as a basis for other tasks and models. They can do everything the other models can do, but require much more handholding to work properly. Generic models are an ideal basis for tasks that we have no specific model for, or for experiencing a softprompt in its raw form. |\n",
    "\n",
    "## How to start KoboldAI in 7 simple steps\n",
    "Using KoboldAI on Google Colab is easy! Simply follow these steps to get started:\n",
    "1. Mobile phone? Tap the play button below next to \"<--- Tap this if you play on mobile\" to reveal an audio player, play the silent audio to keep the tab alive so Google will not shut you down when your using KoboldAI. If no audio player is revealed your phone browser does not support Google Colab in the mobile view, go to your browser menu and enable Desktop mode before you continue.\n",
    "2. Select the model that most describes what you would like to do, by default we have the most recommended model for people willing to try out KoboldAI selected.\n",
    "3. Click the play button next to \"<--- Click this to start KoboldAI\".\n",
    "4. Allow Google Drive access, this typically happens trough a popup but sometimes Google Drive access may be requested trough the older method by asking you to click on a link and copy a code. This is normal behavior for Colab and only you will get access to your files, nothing is shared with us.\n",
    "5. Now the automatic installation and Download process starts, for most models in the TPU edition expect the loading to take between 15 and 30 minutes on average depending on the current Colab download speeds and the model you selected. These downloads happen trough Google's internet connection, you will not be billed by your internet provider and it will not count towards any download limits.\n",
    "6. After waiting a Trycloudflare link appears, click the link to enjoy KoboldAI. If you get a 1033 error Cloudflare is not done loading, in that case keep refreshing until it goes away. (If it keeps happening after 2 minutes Cloudflare has an issue, in that case you can use Runtime -> Restart and Run All to get a new link).\n",
    "7. As you play KoboldAI, keep this Colab tab open in the background and check occationally for Captcha's so they do not shut your instance down. If you do get shut down you can always download a copy of your gamesave in the Save menu inside KoboldAI. Stories are never lost as long as you keep KoboldAI open in your browser.\n",
    "\n",
    "Get a error message saying you do not have access to a GPU/TPU instance? Do not continue and try again later, KoboldAI will not run correctly without them.\n",
    "\n"
   ],
   "metadata": {
    "id": "i0-9ARA3c4Fx"
   }
  }
 ],
 "metadata": {
  "colab": {
   "name": "ColabKobold TPU",
   "provenance": [],
   "private_outputs": true,
   "collapsed_sections": [],
   "include_colab_link": true
  },
  "kernelspec": {
   "display_name": "Python 3",
   "name": "python3"
  },
  "language_info": {
   "name": "python"
  },
  "accelerator": "TPU"
 },
 "nbformat": 4,
 "nbformat_minor": 0
}